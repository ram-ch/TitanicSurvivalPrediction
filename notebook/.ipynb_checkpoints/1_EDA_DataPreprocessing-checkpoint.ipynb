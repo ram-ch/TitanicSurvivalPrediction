{
 "cells": [
  {
   "cell_type": "code",
   "execution_count": 1,
   "id": "9e440810",
   "metadata": {
    "execution": {
     "iopub.execute_input": "2022-08-06T04:04:56.174144Z",
     "iopub.status.busy": "2022-08-06T04:04:56.173500Z",
     "iopub.status.idle": "2022-08-06T04:04:57.837644Z",
     "shell.execute_reply": "2022-08-06T04:04:57.836170Z"
    },
    "papermill": {
     "duration": 1.678278,
     "end_time": "2022-08-06T04:04:57.841261",
     "exception": false,
     "start_time": "2022-08-06T04:04:56.162983",
     "status": "completed"
    },
    "tags": []
   },
   "outputs": [],
   "source": [
    "import warnings\n",
    "warnings.filterwarnings('ignore')\n",
    "import os\n",
    "import pandas as pd\n",
    "import numpy as np\n",
    "import joblib\n",
    "import matplotlib.pyplot as plt\n",
    "plt.rcParams['figure.dpi'] = 100\n",
    "\n",
    "# machine learning\n",
    "from sklearn.model_selection import train_test_split,GridSearchCV, RandomizedSearchCV\n",
    "from sklearn.linear_model import LogisticRegression\n",
    "from sklearn.svm import SVC, LinearSVC\n",
    "from sklearn.ensemble import RandomForestClassifier, GradientBoostingClassifier\n",
    "from sklearn.neighbors import KNeighborsClassifier\n",
    "from sklearn.naive_bayes import GaussianNB,MultinomialNB\n",
    "from sklearn.linear_model import Perceptron\n",
    "from sklearn.linear_model import SGDClassifier\n",
    "from sklearn.tree import DecisionTreeClassifier\n",
    "from sklearn.metrics import *\n",
    "from sklearn.pipeline import Pipeline\n",
    "from sklearn.preprocessing import StandardScaler\n",
    "import xgboost as xgb"
   ]
  },
  {
   "cell_type": "code",
   "execution_count": 2,
   "id": "89f4e4f8",
   "metadata": {
    "execution": {
     "iopub.execute_input": "2022-08-06T04:04:57.857247Z",
     "iopub.status.busy": "2022-08-06T04:04:57.856811Z",
     "iopub.status.idle": "2022-08-06T04:04:57.889298Z",
     "shell.execute_reply": "2022-08-06T04:04:57.887758Z"
    },
    "papermill": {
     "duration": 0.043324,
     "end_time": "2022-08-06T04:04:57.892212",
     "exception": false,
     "start_time": "2022-08-06T04:04:57.848888",
     "status": "completed"
    },
    "tags": []
   },
   "outputs": [
    {
     "name": "stdout",
     "output_type": "stream",
     "text": [
      "Train data: (891, 12)\n",
      "Test data: (418, 11)\n"
     ]
    }
   ],
   "source": [
    "train_data=pd.read_csv('train.csv')\n",
    "test_data=pd.read_csv('test.csv')\n",
    "print(f\"Train data: {train_data.shape}\")\n",
    "print(f\"Test data: {test_data.shape}\")"
   ]
  },
  {
   "cell_type": "code",
   "execution_count": 3,
   "id": "13631e8e",
   "metadata": {
    "execution": {
     "iopub.execute_input": "2022-08-06T04:04:57.907755Z",
     "iopub.status.busy": "2022-08-06T04:04:57.906769Z",
     "iopub.status.idle": "2022-08-06T04:04:57.935171Z",
     "shell.execute_reply": "2022-08-06T04:04:57.934007Z"
    },
    "papermill": {
     "duration": 0.038723,
     "end_time": "2022-08-06T04:04:57.937738",
     "exception": false,
     "start_time": "2022-08-06T04:04:57.899015",
     "status": "completed"
    },
    "tags": []
   },
   "outputs": [
    {
     "data": {
      "text/html": [
       "<div>\n",
       "<style scoped>\n",
       "    .dataframe tbody tr th:only-of-type {\n",
       "        vertical-align: middle;\n",
       "    }\n",
       "\n",
       "    .dataframe tbody tr th {\n",
       "        vertical-align: top;\n",
       "    }\n",
       "\n",
       "    .dataframe thead th {\n",
       "        text-align: right;\n",
       "    }\n",
       "</style>\n",
       "<table border=\"1\" class=\"dataframe\">\n",
       "  <thead>\n",
       "    <tr style=\"text-align: right;\">\n",
       "      <th></th>\n",
       "      <th>PassengerId</th>\n",
       "      <th>Survived</th>\n",
       "      <th>Pclass</th>\n",
       "      <th>Name</th>\n",
       "      <th>Sex</th>\n",
       "      <th>Age</th>\n",
       "      <th>SibSp</th>\n",
       "      <th>Parch</th>\n",
       "      <th>Ticket</th>\n",
       "      <th>Fare</th>\n",
       "      <th>Cabin</th>\n",
       "      <th>Embarked</th>\n",
       "    </tr>\n",
       "  </thead>\n",
       "  <tbody>\n",
       "    <tr>\n",
       "      <th>0</th>\n",
       "      <td>1</td>\n",
       "      <td>0</td>\n",
       "      <td>3</td>\n",
       "      <td>Braund, Mr. Owen Harris</td>\n",
       "      <td>male</td>\n",
       "      <td>22.0</td>\n",
       "      <td>1</td>\n",
       "      <td>0</td>\n",
       "      <td>A/5 21171</td>\n",
       "      <td>7.2500</td>\n",
       "      <td>NaN</td>\n",
       "      <td>S</td>\n",
       "    </tr>\n",
       "    <tr>\n",
       "      <th>1</th>\n",
       "      <td>2</td>\n",
       "      <td>1</td>\n",
       "      <td>1</td>\n",
       "      <td>Cumings, Mrs. John Bradley (Florence Briggs Th...</td>\n",
       "      <td>female</td>\n",
       "      <td>38.0</td>\n",
       "      <td>1</td>\n",
       "      <td>0</td>\n",
       "      <td>PC 17599</td>\n",
       "      <td>71.2833</td>\n",
       "      <td>C85</td>\n",
       "      <td>C</td>\n",
       "    </tr>\n",
       "    <tr>\n",
       "      <th>2</th>\n",
       "      <td>3</td>\n",
       "      <td>1</td>\n",
       "      <td>3</td>\n",
       "      <td>Heikkinen, Miss. Laina</td>\n",
       "      <td>female</td>\n",
       "      <td>26.0</td>\n",
       "      <td>0</td>\n",
       "      <td>0</td>\n",
       "      <td>STON/O2. 3101282</td>\n",
       "      <td>7.9250</td>\n",
       "      <td>NaN</td>\n",
       "      <td>S</td>\n",
       "    </tr>\n",
       "    <tr>\n",
       "      <th>3</th>\n",
       "      <td>4</td>\n",
       "      <td>1</td>\n",
       "      <td>1</td>\n",
       "      <td>Futrelle, Mrs. Jacques Heath (Lily May Peel)</td>\n",
       "      <td>female</td>\n",
       "      <td>35.0</td>\n",
       "      <td>1</td>\n",
       "      <td>0</td>\n",
       "      <td>113803</td>\n",
       "      <td>53.1000</td>\n",
       "      <td>C123</td>\n",
       "      <td>S</td>\n",
       "    </tr>\n",
       "    <tr>\n",
       "      <th>4</th>\n",
       "      <td>5</td>\n",
       "      <td>0</td>\n",
       "      <td>3</td>\n",
       "      <td>Allen, Mr. William Henry</td>\n",
       "      <td>male</td>\n",
       "      <td>35.0</td>\n",
       "      <td>0</td>\n",
       "      <td>0</td>\n",
       "      <td>373450</td>\n",
       "      <td>8.0500</td>\n",
       "      <td>NaN</td>\n",
       "      <td>S</td>\n",
       "    </tr>\n",
       "  </tbody>\n",
       "</table>\n",
       "</div>"
      ],
      "text/plain": [
       "   PassengerId  Survived  Pclass  \\\n",
       "0            1         0       3   \n",
       "1            2         1       1   \n",
       "2            3         1       3   \n",
       "3            4         1       1   \n",
       "4            5         0       3   \n",
       "\n",
       "                                                Name     Sex   Age  SibSp  \\\n",
       "0                            Braund, Mr. Owen Harris    male  22.0      1   \n",
       "1  Cumings, Mrs. John Bradley (Florence Briggs Th...  female  38.0      1   \n",
       "2                             Heikkinen, Miss. Laina  female  26.0      0   \n",
       "3       Futrelle, Mrs. Jacques Heath (Lily May Peel)  female  35.0      1   \n",
       "4                           Allen, Mr. William Henry    male  35.0      0   \n",
       "\n",
       "   Parch            Ticket     Fare Cabin Embarked  \n",
       "0      0         A/5 21171   7.2500   NaN        S  \n",
       "1      0          PC 17599  71.2833   C85        C  \n",
       "2      0  STON/O2. 3101282   7.9250   NaN        S  \n",
       "3      0            113803  53.1000  C123        S  \n",
       "4      0            373450   8.0500   NaN        S  "
      ]
     },
     "execution_count": 3,
     "metadata": {},
     "output_type": "execute_result"
    }
   ],
   "source": [
    "train_data.head()"
   ]
  },
  {
   "cell_type": "code",
   "execution_count": 4,
   "id": "c5256daa",
   "metadata": {
    "execution": {
     "iopub.execute_input": "2022-08-06T04:04:57.953174Z",
     "iopub.status.busy": "2022-08-06T04:04:57.952510Z",
     "iopub.status.idle": "2022-08-06T04:04:57.969447Z",
     "shell.execute_reply": "2022-08-06T04:04:57.968083Z"
    },
    "papermill": {
     "duration": 0.027444,
     "end_time": "2022-08-06T04:04:57.971946",
     "exception": false,
     "start_time": "2022-08-06T04:04:57.944502",
     "status": "completed"
    },
    "tags": []
   },
   "outputs": [
    {
     "name": "stdout",
     "output_type": "stream",
     "text": [
      "Train set\n",
      "-------------------------\n",
      "Age | Null Count: 177\n",
      "Cabin | Null Count: 687\n",
      "Embarked | Null Count: 2\n",
      "-------------------------\n",
      "Test set\n",
      "-------------------------\n",
      "Age | Null Count: 177\n",
      "Cabin | Null Count: 687\n",
      "Embarked | Null Count: 2\n"
     ]
    }
   ],
   "source": [
    "def null_value_checker(df):\n",
    "    col_list=list(df.columns)\n",
    "    for col in col_list:\n",
    "        null_count=df[col].isnull().sum()\n",
    "        if null_count>0:\n",
    "            print(f\"{col} | Null Count: {null_count}\")\n",
    "    return\n",
    "\n",
    "print(\"Train set\")\n",
    "print(\"-\"*25)\n",
    "null_value_checker(train_data)\n",
    "print(\"-\"*25)\n",
    "print(\"Test set\")\n",
    "print(\"-\"*25)\n",
    "null_value_checker(train_data)"
   ]
  },
  {
   "cell_type": "markdown",
   "id": "3d80bf08",
   "metadata": {
    "papermill": {
     "duration": 0.006286,
     "end_time": "2022-08-06T04:04:57.984804",
     "exception": false,
     "start_time": "2022-08-06T04:04:57.978518",
     "status": "completed"
    },
    "tags": []
   },
   "source": [
    "### Data Preprocessing"
   ]
  },
  {
   "cell_type": "code",
   "execution_count": 5,
   "id": "e7713e43",
   "metadata": {
    "execution": {
     "iopub.execute_input": "2022-08-06T04:04:58.000100Z",
     "iopub.status.busy": "2022-08-06T04:04:57.998984Z",
     "iopub.status.idle": "2022-08-06T04:04:58.027796Z",
     "shell.execute_reply": "2022-08-06T04:04:58.026434Z"
    },
    "papermill": {
     "duration": 0.039962,
     "end_time": "2022-08-06T04:04:58.031158",
     "exception": false,
     "start_time": "2022-08-06T04:04:57.991196",
     "status": "completed"
    },
    "tags": []
   },
   "outputs": [],
   "source": [
    "def data_preprocessor(mean_age,mode_embarked,mean_Fare,df):\n",
    "    # impute missing values\n",
    "    df['Age']=df['Age'].fillna(value=mean_age)    \n",
    "    df['Embarked']=df['Embarked'].fillna(value=mode_embarked[0])    \n",
    "    df['Fare']=df['Fare'].fillna(value=mean_Fare)\n",
    "    # encoding\n",
    "    df['Sex'] = df['Sex'].replace('male', 1)\n",
    "    df['Sex'] = df['Sex'].replace('female', 0)\n",
    "    df['Embarked'] = df['Embarked'].replace('C', 0)\n",
    "    df['Embarked'] = df['Embarked'].replace('S', 1)\n",
    "    df['Embarked'] = df['Embarked'].replace('Q', 2)\n",
    "    df['Fare']=round(df['Fare'],2)    \n",
    "    return df\n",
    "\n",
    "mean_age=round(train_data.Age.mean(),2)\n",
    "mode_embarked=train_data['Embarked'].mode()\n",
    "mean_Fare=train_data['Fare'].mean()\n",
    "\n",
    "train_df_clean=data_preprocessor(mean_age,mode_embarked,mean_Fare,train_data)\n",
    "test_df_clean=data_preprocessor(mean_age,mode_embarked,mean_Fare,test_data)\n",
    "\n",
    "# drop columns\n",
    "drop_columns=['Name','PassengerId','Cabin','Ticket']\n",
    "train_df_clean=train_df_clean.drop(drop_columns,axis=1)\n",
    "\n",
    "drop_columns=['Name','Cabin','Ticket']\n",
    "test_df_clean=test_df_clean.drop(drop_columns,axis=1)"
   ]
  },
  {
   "cell_type": "code",
   "execution_count": 6,
   "id": "c80a83de",
   "metadata": {
    "execution": {
     "iopub.execute_input": "2022-08-06T04:04:58.046077Z",
     "iopub.status.busy": "2022-08-06T04:04:58.045670Z",
     "iopub.status.idle": "2022-08-06T04:04:58.050477Z",
     "shell.execute_reply": "2022-08-06T04:04:58.049512Z"
    },
    "papermill": {
     "duration": 0.014831,
     "end_time": "2022-08-06T04:04:58.052691",
     "exception": false,
     "start_time": "2022-08-06T04:04:58.037860",
     "status": "completed"
    },
    "tags": []
   },
   "outputs": [],
   "source": [
    "# # Standard scaler - Age, Fare\n",
    "# col_names = ['Age', 'Fare']\n",
    "# train_features = train_df_clean[col_names]\n",
    "# test_features = test_df_clean[col_names]\n",
    "\n",
    "# scaler = StandardScaler().fit(train_features.values)\n",
    "# train_features_scaled = scaler.transform(train_features.values)\n",
    "# test_features_scaled = scaler.transform(test_features.values)\n",
    "\n",
    "# train_df_clean[col_names] = train_features_scaled\n",
    "# test_df_clean[col_names] = test_features_scaled"
   ]
  },
  {
   "cell_type": "code",
   "execution_count": 7,
   "id": "597bc9ba",
   "metadata": {
    "execution": {
     "iopub.execute_input": "2022-08-06T04:04:58.068254Z",
     "iopub.status.busy": "2022-08-06T04:04:58.067463Z",
     "iopub.status.idle": "2022-08-06T04:04:58.092053Z",
     "shell.execute_reply": "2022-08-06T04:04:58.090873Z"
    },
    "papermill": {
     "duration": 0.035368,
     "end_time": "2022-08-06T04:04:58.094571",
     "exception": false,
     "start_time": "2022-08-06T04:04:58.059203",
     "status": "completed"
    },
    "tags": []
   },
   "outputs": [],
   "source": [
    "# Binning - Age, Fare\n",
    "def age_binning(df):\n",
    "    df.loc[ df['Age'] <= 16, 'Age'] = 0\n",
    "    df.loc[(df['Age'] > 16) & (df['Age'] <= 32), 'Age'] = 1\n",
    "    df.loc[(df['Age'] > 32) & (df['Age'] <= 48), 'Age'] = 2\n",
    "    df.loc[(df['Age'] > 48) & (df['Age'] <= 64), 'Age'] = 3\n",
    "    df.loc[df['Age'] > 64, 'Age']\n",
    "    df['Age'] = df['Age'].astype(int)\n",
    "    return df\n",
    "\n",
    "def fare_binning(df):\n",
    "    df.loc[df['Fare'] <= 7.91, 'Fare'] = 0\n",
    "    df.loc[(df['Fare'] > 7.91) & (df['Fare'] <= 14.454), 'Fare'] = 1\n",
    "    df.loc[(df['Fare'] > 14.454) & (df['Fare'] <= 31), 'Fare']   = 2\n",
    "    df.loc[df['Fare'] > 31, 'Fare'] = 3\n",
    "    df['Fare'] = df['Fare'].astype(int)\n",
    "    return df\n",
    "\n",
    "# binning the age feature\n",
    "train_df_clean=age_binning(train_df_clean)\n",
    "test_df_clean=age_binning(test_df_clean)\n",
    "\n",
    "# binning the fare feature\n",
    "train_df_clean=fare_binning(train_df_clean)\n",
    "test_df_clean=fare_binning(test_df_clean)"
   ]
  },
  {
   "cell_type": "code",
   "execution_count": 8,
   "id": "bd1a1bdb",
   "metadata": {
    "execution": {
     "iopub.execute_input": "2022-08-06T04:04:58.110237Z",
     "iopub.status.busy": "2022-08-06T04:04:58.109056Z",
     "iopub.status.idle": "2022-08-06T04:04:58.131493Z",
     "shell.execute_reply": "2022-08-06T04:04:58.130274Z"
    },
    "papermill": {
     "duration": 0.033071,
     "end_time": "2022-08-06T04:04:58.134291",
     "exception": false,
     "start_time": "2022-08-06T04:04:58.101220",
     "status": "completed"
    },
    "tags": []
   },
   "outputs": [
    {
     "data": {
      "text/html": [
       "<div>\n",
       "<style scoped>\n",
       "    .dataframe tbody tr th:only-of-type {\n",
       "        vertical-align: middle;\n",
       "    }\n",
       "\n",
       "    .dataframe tbody tr th {\n",
       "        vertical-align: top;\n",
       "    }\n",
       "\n",
       "    .dataframe thead th {\n",
       "        text-align: right;\n",
       "    }\n",
       "</style>\n",
       "<table border=\"1\" class=\"dataframe\">\n",
       "  <thead>\n",
       "    <tr style=\"text-align: right;\">\n",
       "      <th></th>\n",
       "      <th>Pclass</th>\n",
       "      <th>Sex</th>\n",
       "      <th>Age</th>\n",
       "      <th>SibSp</th>\n",
       "      <th>Parch</th>\n",
       "      <th>Fare</th>\n",
       "      <th>Embarked</th>\n",
       "      <th>Family_size</th>\n",
       "      <th>Is_alone</th>\n",
       "      <th>Survived</th>\n",
       "    </tr>\n",
       "  </thead>\n",
       "  <tbody>\n",
       "    <tr>\n",
       "      <th>0</th>\n",
       "      <td>3</td>\n",
       "      <td>1</td>\n",
       "      <td>1</td>\n",
       "      <td>1</td>\n",
       "      <td>0</td>\n",
       "      <td>0</td>\n",
       "      <td>1</td>\n",
       "      <td>2</td>\n",
       "      <td>0</td>\n",
       "      <td>0</td>\n",
       "    </tr>\n",
       "    <tr>\n",
       "      <th>1</th>\n",
       "      <td>1</td>\n",
       "      <td>0</td>\n",
       "      <td>2</td>\n",
       "      <td>1</td>\n",
       "      <td>0</td>\n",
       "      <td>3</td>\n",
       "      <td>0</td>\n",
       "      <td>2</td>\n",
       "      <td>0</td>\n",
       "      <td>1</td>\n",
       "    </tr>\n",
       "    <tr>\n",
       "      <th>2</th>\n",
       "      <td>3</td>\n",
       "      <td>0</td>\n",
       "      <td>1</td>\n",
       "      <td>0</td>\n",
       "      <td>0</td>\n",
       "      <td>1</td>\n",
       "      <td>1</td>\n",
       "      <td>1</td>\n",
       "      <td>1</td>\n",
       "      <td>1</td>\n",
       "    </tr>\n",
       "    <tr>\n",
       "      <th>3</th>\n",
       "      <td>1</td>\n",
       "      <td>0</td>\n",
       "      <td>2</td>\n",
       "      <td>1</td>\n",
       "      <td>0</td>\n",
       "      <td>3</td>\n",
       "      <td>1</td>\n",
       "      <td>2</td>\n",
       "      <td>0</td>\n",
       "      <td>1</td>\n",
       "    </tr>\n",
       "    <tr>\n",
       "      <th>4</th>\n",
       "      <td>3</td>\n",
       "      <td>1</td>\n",
       "      <td>2</td>\n",
       "      <td>0</td>\n",
       "      <td>0</td>\n",
       "      <td>1</td>\n",
       "      <td>1</td>\n",
       "      <td>1</td>\n",
       "      <td>1</td>\n",
       "      <td>0</td>\n",
       "    </tr>\n",
       "  </tbody>\n",
       "</table>\n",
       "</div>"
      ],
      "text/plain": [
       "   Pclass  Sex  Age  SibSp  Parch  Fare  Embarked  Family_size  Is_alone  \\\n",
       "0       3    1    1      1      0     0         1            2         0   \n",
       "1       1    0    2      1      0     3         0            2         0   \n",
       "2       3    0    1      0      0     1         1            1         1   \n",
       "3       1    0    2      1      0     3         1            2         0   \n",
       "4       3    1    2      0      0     1         1            1         1   \n",
       "\n",
       "   Survived  \n",
       "0         0  \n",
       "1         1  \n",
       "2         1  \n",
       "3         1  \n",
       "4         0  "
      ]
     },
     "execution_count": 8,
     "metadata": {},
     "output_type": "execute_result"
    }
   ],
   "source": [
    "train_df_clean['Family_size']=train_df_clean['Parch']+train_df_clean['SibSp']+1\n",
    "test_df_clean['Family_size']=test_df_clean['Parch']+test_df_clean['SibSp']+1\n",
    "\n",
    "train_df_clean['Is_alone']=0\n",
    "train_df_clean.loc[train_df_clean['Family_size']==1,'Is_alone']=1\n",
    "\n",
    "test_df_clean['Is_alone']=0\n",
    "test_df_clean.loc[test_df_clean['Family_size']==1,'Is_alone']=1\n",
    "\n",
    "surv=train_df_clean.pop('Survived')\n",
    "train_df_clean['Survived']=surv\n",
    "train_df_clean.head()"
   ]
  },
  {
   "cell_type": "code",
   "execution_count": 9,
   "id": "0e4802ad",
   "metadata": {
    "execution": {
     "iopub.execute_input": "2022-08-06T04:04:58.151092Z",
     "iopub.status.busy": "2022-08-06T04:04:58.150064Z",
     "iopub.status.idle": "2022-08-06T04:04:58.162530Z",
     "shell.execute_reply": "2022-08-06T04:04:58.161661Z"
    },
    "papermill": {
     "duration": 0.022854,
     "end_time": "2022-08-06T04:04:58.164762",
     "exception": false,
     "start_time": "2022-08-06T04:04:58.141908",
     "status": "completed"
    },
    "tags": []
   },
   "outputs": [
    {
     "data": {
      "text/html": [
       "<div>\n",
       "<style scoped>\n",
       "    .dataframe tbody tr th:only-of-type {\n",
       "        vertical-align: middle;\n",
       "    }\n",
       "\n",
       "    .dataframe tbody tr th {\n",
       "        vertical-align: top;\n",
       "    }\n",
       "\n",
       "    .dataframe thead th {\n",
       "        text-align: right;\n",
       "    }\n",
       "</style>\n",
       "<table border=\"1\" class=\"dataframe\">\n",
       "  <thead>\n",
       "    <tr style=\"text-align: right;\">\n",
       "      <th></th>\n",
       "      <th>PassengerId</th>\n",
       "      <th>Pclass</th>\n",
       "      <th>Sex</th>\n",
       "      <th>Age</th>\n",
       "      <th>SibSp</th>\n",
       "      <th>Parch</th>\n",
       "      <th>Fare</th>\n",
       "      <th>Embarked</th>\n",
       "      <th>Family_size</th>\n",
       "      <th>Is_alone</th>\n",
       "    </tr>\n",
       "  </thead>\n",
       "  <tbody>\n",
       "    <tr>\n",
       "      <th>0</th>\n",
       "      <td>892</td>\n",
       "      <td>3</td>\n",
       "      <td>1</td>\n",
       "      <td>2</td>\n",
       "      <td>0</td>\n",
       "      <td>0</td>\n",
       "      <td>0</td>\n",
       "      <td>2</td>\n",
       "      <td>1</td>\n",
       "      <td>1</td>\n",
       "    </tr>\n",
       "    <tr>\n",
       "      <th>1</th>\n",
       "      <td>893</td>\n",
       "      <td>3</td>\n",
       "      <td>0</td>\n",
       "      <td>2</td>\n",
       "      <td>1</td>\n",
       "      <td>0</td>\n",
       "      <td>0</td>\n",
       "      <td>1</td>\n",
       "      <td>2</td>\n",
       "      <td>0</td>\n",
       "    </tr>\n",
       "    <tr>\n",
       "      <th>2</th>\n",
       "      <td>894</td>\n",
       "      <td>2</td>\n",
       "      <td>1</td>\n",
       "      <td>3</td>\n",
       "      <td>0</td>\n",
       "      <td>0</td>\n",
       "      <td>1</td>\n",
       "      <td>2</td>\n",
       "      <td>1</td>\n",
       "      <td>1</td>\n",
       "    </tr>\n",
       "    <tr>\n",
       "      <th>3</th>\n",
       "      <td>895</td>\n",
       "      <td>3</td>\n",
       "      <td>1</td>\n",
       "      <td>1</td>\n",
       "      <td>0</td>\n",
       "      <td>0</td>\n",
       "      <td>1</td>\n",
       "      <td>1</td>\n",
       "      <td>1</td>\n",
       "      <td>1</td>\n",
       "    </tr>\n",
       "    <tr>\n",
       "      <th>4</th>\n",
       "      <td>896</td>\n",
       "      <td>3</td>\n",
       "      <td>0</td>\n",
       "      <td>1</td>\n",
       "      <td>1</td>\n",
       "      <td>1</td>\n",
       "      <td>1</td>\n",
       "      <td>1</td>\n",
       "      <td>3</td>\n",
       "      <td>0</td>\n",
       "    </tr>\n",
       "  </tbody>\n",
       "</table>\n",
       "</div>"
      ],
      "text/plain": [
       "   PassengerId  Pclass  Sex  Age  SibSp  Parch  Fare  Embarked  Family_size  \\\n",
       "0          892       3    1    2      0      0     0         2            1   \n",
       "1          893       3    0    2      1      0     0         1            2   \n",
       "2          894       2    1    3      0      0     1         2            1   \n",
       "3          895       3    1    1      0      0     1         1            1   \n",
       "4          896       3    0    1      1      1     1         1            3   \n",
       "\n",
       "   Is_alone  \n",
       "0         1  \n",
       "1         0  \n",
       "2         1  \n",
       "3         1  \n",
       "4         0  "
      ]
     },
     "execution_count": 9,
     "metadata": {},
     "output_type": "execute_result"
    }
   ],
   "source": [
    "test_df_clean.head()"
   ]
  },
  {
   "cell_type": "code",
   "execution_count": 10,
   "id": "287d5870",
   "metadata": {
    "execution": {
     "iopub.execute_input": "2022-08-06T04:04:58.180643Z",
     "iopub.status.busy": "2022-08-06T04:04:58.179934Z",
     "iopub.status.idle": "2022-08-06T04:04:58.191460Z",
     "shell.execute_reply": "2022-08-06T04:04:58.190642Z"
    },
    "papermill": {
     "duration": 0.022193,
     "end_time": "2022-08-06T04:04:58.193884",
     "exception": false,
     "start_time": "2022-08-06T04:04:58.171691",
     "status": "completed"
    },
    "tags": []
   },
   "outputs": [],
   "source": [
    "train_df_clean.to_csv(\"train_clean.csv\",index=False)\n",
    "test_df_clean.to_csv(\"test_clean.csv\",index=False)"
   ]
  },
  {
   "cell_type": "code",
   "execution_count": 11,
   "id": "b220dcf5",
   "metadata": {
    "execution": {
     "iopub.execute_input": "2022-08-06T04:04:58.223644Z",
     "iopub.status.busy": "2022-08-06T04:04:58.222926Z",
     "iopub.status.idle": "2022-08-06T04:04:58.235173Z",
     "shell.execute_reply": "2022-08-06T04:04:58.234149Z"
    },
    "papermill": {
     "duration": 0.022772,
     "end_time": "2022-08-06T04:04:58.237454",
     "exception": false,
     "start_time": "2022-08-06T04:04:58.214682",
     "status": "completed"
    },
    "tags": []
   },
   "outputs": [
    {
     "name": "stdout",
     "output_type": "stream",
     "text": [
      "X shape: (891, 9)\n",
      "y shape: (891,)\n"
     ]
    }
   ],
   "source": [
    "train_df=pd.read_csv('./train_clean.csv')\n",
    "test_df=pd.read_csv('./test_clean.csv')\n",
    "y=train_df.pop(\"Survived\").to_numpy()\n",
    "X=train_df.to_numpy()\n",
    "print(f\"X shape: {X.shape}\")\n",
    "print(f\"y shape: {y.shape}\")"
   ]
  },
  {
   "cell_type": "code",
   "execution_count": 12,
   "id": "07b6ac0c",
   "metadata": {
    "execution": {
     "iopub.execute_input": "2022-08-06T04:04:58.255120Z",
     "iopub.status.busy": "2022-08-06T04:04:58.254322Z",
     "iopub.status.idle": "2022-08-06T04:04:58.261704Z",
     "shell.execute_reply": "2022-08-06T04:04:58.260637Z"
    },
    "papermill": {
     "duration": 0.019046,
     "end_time": "2022-08-06T04:04:58.263890",
     "exception": false,
     "start_time": "2022-08-06T04:04:58.244844",
     "status": "completed"
    },
    "tags": []
   },
   "outputs": [
    {
     "name": "stdout",
     "output_type": "stream",
     "text": [
      "X train shape: (668, 9)\n",
      "y train shape: (668,)\n",
      "X test shape : (223, 9)\n",
      "y test shape : (223,)\n"
     ]
    }
   ],
   "source": [
    "X_train,X_test,y_train,y_test=train_test_split(X,y,\n",
    "                                               test_size=0.25, \n",
    "                                               random_state=42,\n",
    "                                               shuffle=True)\n",
    "print(f\"X train shape: {X_train.shape}\")\n",
    "print(f\"y train shape: {y_train.shape}\")\n",
    "\n",
    "print(f\"X test shape : {X_test.shape}\")\n",
    "print(f\"y test shape : {y_test.shape}\")"
   ]
  },
  {
   "cell_type": "code",
   "execution_count": 13,
   "id": "56a151f1",
   "metadata": {
    "execution": {
     "iopub.execute_input": "2022-08-06T04:06:15.864303Z",
     "iopub.status.busy": "2022-08-06T04:06:15.863896Z",
     "iopub.status.idle": "2022-08-06T04:06:15.914193Z",
     "shell.execute_reply": "2022-08-06T04:06:15.913102Z"
    },
    "papermill": {
     "duration": 0.062161,
     "end_time": "2022-08-06T04:06:15.916509",
     "exception": false,
     "start_time": "2022-08-06T04:06:15.854348",
     "status": "completed"
    },
    "tags": []
   },
   "outputs": [],
   "source": [
    "# # save model\n",
    "# joblib.dump(gs, 'titanic_model.pkl')"
   ]
  },
  {
   "cell_type": "code",
   "execution_count": 14,
   "id": "f1a3f7b7",
   "metadata": {
    "execution": {
     "iopub.execute_input": "2022-08-06T04:06:15.936208Z",
     "iopub.status.busy": "2022-08-06T04:06:15.935159Z",
     "iopub.status.idle": "2022-08-06T04:06:15.953824Z",
     "shell.execute_reply": "2022-08-06T04:06:15.952587Z"
    },
    "papermill": {
     "duration": 0.031695,
     "end_time": "2022-08-06T04:06:15.956689",
     "exception": false,
     "start_time": "2022-08-06T04:06:15.924994",
     "status": "completed"
    },
    "tags": []
   },
   "outputs": [],
   "source": [
    "# # load test data\n",
    "# test_data=pd.read_csv('test_clean.csv')\n",
    "# test_data.head()"
   ]
  },
  {
   "cell_type": "code",
   "execution_count": 15,
   "id": "ef0b769e",
   "metadata": {
    "execution": {
     "iopub.execute_input": "2022-08-06T04:06:15.976893Z",
     "iopub.status.busy": "2022-08-06T04:06:15.975728Z",
     "iopub.status.idle": "2022-08-06T04:06:16.019782Z",
     "shell.execute_reply": "2022-08-06T04:06:16.018464Z"
    },
    "papermill": {
     "duration": 0.057335,
     "end_time": "2022-08-06T04:06:16.022889",
     "exception": false,
     "start_time": "2022-08-06T04:06:15.965554",
     "status": "completed"
    },
    "tags": []
   },
   "outputs": [],
   "source": [
    "# # Load model\n",
    "# xgb_model=joblib.load(\"./titanic_model.pkl\")\n",
    "# result=pd.DataFrame()\n",
    "# result['PassengerId']=test_data.pop('PassengerId')\n",
    "\n",
    "# # inference\n",
    "# y_pred=xgb_model.predict(test_data)\n",
    "# result['Survived']=pd.Series(y_pred)\n",
    "# result=result.sort_values(by='PassengerId')"
   ]
  },
  {
   "cell_type": "code",
   "execution_count": 16,
   "id": "a7e797a0",
   "metadata": {
    "execution": {
     "iopub.execute_input": "2022-08-06T04:06:16.043718Z",
     "iopub.status.busy": "2022-08-06T04:06:16.043251Z",
     "iopub.status.idle": "2022-08-06T04:06:16.056779Z",
     "shell.execute_reply": "2022-08-06T04:06:16.055485Z"
    },
    "papermill": {
     "duration": 0.026459,
     "end_time": "2022-08-06T04:06:16.059443",
     "exception": false,
     "start_time": "2022-08-06T04:06:16.032984",
     "status": "completed"
    },
    "tags": []
   },
   "outputs": [],
   "source": [
    "# result.to_csv('submission.csv',index=False)\n",
    "# result.head()"
   ]
  }
 ],
 "metadata": {
  "kernelspec": {
   "display_name": "Python 3 (ipykernel)",
   "language": "python",
   "name": "python3"
  },
  "language_info": {
   "codemirror_mode": {
    "name": "ipython",
    "version": 3
   },
   "file_extension": ".py",
   "mimetype": "text/x-python",
   "name": "python",
   "nbconvert_exporter": "python",
   "pygments_lexer": "ipython3",
   "version": "3.8.13"
  },
  "papermill": {
   "default_parameters": {},
   "duration": 92.558391,
   "end_time": "2022-08-06T04:06:18.692841",
   "environment_variables": {},
   "exception": null,
   "input_path": "__notebook__.ipynb",
   "output_path": "__notebook__.ipynb",
   "parameters": {},
   "start_time": "2022-08-06T04:04:46.134450",
   "version": "2.3.4"
  }
 },
 "nbformat": 4,
 "nbformat_minor": 5
}
